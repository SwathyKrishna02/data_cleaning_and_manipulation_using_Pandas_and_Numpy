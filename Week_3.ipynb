{
  "nbformat": 4,
  "nbformat_minor": 0,
  "metadata": {
    "colab": {
      "provenance": [],
      "include_colab_link": true
    },
    "kernelspec": {
      "name": "python3",
      "display_name": "Python 3"
    },
    "language_info": {
      "name": "python"
    }
  },
  "cells": [
    {
      "cell_type": "markdown",
      "metadata": {
        "id": "view-in-github",
        "colab_type": "text"
      },
      "source": [
        "<a href=\"https://colab.research.google.com/github/SwathyKrishna02/data_cleaning_and_manipulation_using_Pandas_and_Numpy/blob/main/Week_3.ipynb\" target=\"_parent\"><img src=\"https://colab.research.google.com/assets/colab-badge.svg\" alt=\"Open In Colab\"/></a>"
      ]
    },
    {
      "cell_type": "markdown",
      "source": [
        "1. How to load data?\n",
        "2. How to work on csv / tsv file?\n",
        "3. Basic Statistics on Data.\n",
        "4. Data Cleaning with each column.\n",
        "5. Choice description\n",
        "6. Regular Expression\n",
        "7. Solve some questions from dataset."
      ],
      "metadata": {
        "id": "PlyALpwjgo95"
      }
    },
    {
      "cell_type": "code",
      "execution_count": 2,
      "metadata": {
        "id": "0y72Yb4BgfXt"
      },
      "outputs": [],
      "source": [
        "# importing libraries\n",
        "import numpy as np\n",
        "import pandas as pd\n"
      ]
    },
    {
      "cell_type": "markdown",
      "source": [
        "## Read Data"
      ],
      "metadata": {
        "id": "XH2L1GcGiOoJ"
      }
    },
    {
      "cell_type": "code",
      "source": [
        "data = pd.read_csv(\"/content/Data-cleaning-for-beginners-using-pandas.csv\")\n",
        "print(data)"
      ],
      "metadata": {
        "id": "8-zdvFkoiNkZ",
        "colab": {
          "base_uri": "https://localhost:8080/"
        },
        "outputId": "57804f96-f48b-47e0-a155-7bda3ef305be"
      },
      "execution_count": null,
      "outputs": [
        {
          "output_type": "stream",
          "name": "stdout",
          "text": [
            "    Index   Age      Salary  Rating       Location  Established Easy Apply\n",
            "0       0  44.0   $44k-$99k     5.4       India,In         1999       TRUE\n",
            "1       1  66.0   $55k-$66k     3.5    New York,Ny         2002       TRUE\n",
            "2       2   NaN   $77k-$89k    -1.0    New York,Ny           -1         -1\n",
            "3       3  64.0   $44k-$99k     4.4       India In         1988         -1\n",
            "4       4  25.0   $44k-$99k     6.4  Australia Aus         2002         -1\n",
            "5       5  44.0   $77k-$89k     1.4       India,In         1999       TRUE\n",
            "6       6  21.0   $44k-$99k     0.0    New York,Ny           -1         -1\n",
            "7       7  44.0   $44k-$99k    -1.0  Australia Aus           -1         -1\n",
            "8       8  35.0   $44k-$99k     5.4    New York,Ny           -1         -1\n",
            "9       9  22.0   $44k-$99k     7.7       India,In           -1       TRUE\n",
            "10     10  55.0   $10k-$49k     5.4       India,In         2008       TRUE\n",
            "11     11  44.0   $10k-$49k     6.7       India,In         2009         -1\n",
            "12     12   NaN   $44k-$99k     0.0       India,In         1999         -1\n",
            "13     13  25.0   $44k-$99k    -1.0  Australia Aus         2019       TRUE\n",
            "14     14  66.0   $44k-$99k     4.0  Australia Aus         2020       TRUE\n",
            "15     15  44.0  $88k-$101k     3.0  Australia Aus         1999         -1\n",
            "16     16  19.0   $19k-$40k     4.5       India,In         1984         -1\n",
            "17     17   NaN   $44k-$99k     5.3    New York,Ny         1943       TRUE\n",
            "18     18  35.0   $44k-$99k     6.7    New York,Ny         1954       TRUE\n",
            "19     19  32.0   $44k-$99k     3.3    New York,Ny         1955       TRUE\n",
            "20     20   NaN   $44k-$99k     5.7    New York,Ny         1944       TRUE\n",
            "21     21  35.0   $44k-$99k     5.0    New York,Ny         1946         -1\n",
            "22     22  19.0   $55k-$66k     7.8    New York,Ny         1988       TRUE\n",
            "23     23   NaN   $44k-$99k     2.4    New York,Ny         1999       TRUE\n",
            "24     24  13.0   $44k-$99k    -1.0    New York,Ny         1987         -1\n",
            "25     25  55.0   $44k-$99k     0.0  Australia Aus         1980       TRUE\n",
            "26     26   NaN   $55k-$66k     NaN       India,In         1934       TRUE\n",
            "27     27  52.0   $44k-$99k     5.4       India,In         1935         -1\n",
            "28     28   NaN   $39k-$88k     3.4  Australia Aus         1932         -1\n"
          ]
        }
      ]
    },
    {
      "cell_type": "markdown",
      "source": [
        "Missing values\n",
        "\n",
        "---\n",
        "\n",
        "\n",
        "\n",
        "---\n",
        "\n"
      ],
      "metadata": {
        "id": "v4cRPlAm_NLY"
      }
    },
    {
      "cell_type": "code",
      "source": [
        "data.isnull().sum()"
      ],
      "metadata": {
        "colab": {
          "base_uri": "https://localhost:8080/"
        },
        "id": "4ROYv6Od_RqG",
        "outputId": "7805521f-8222-4578-a45d-c7950b8b18f4"
      },
      "execution_count": null,
      "outputs": [
        {
          "output_type": "execute_result",
          "data": {
            "text/plain": [
              "Index          0\n",
              "Age            7\n",
              "Salary         0\n",
              "Rating         1\n",
              "Location       0\n",
              "Established    0\n",
              "Easy Apply     0\n",
              "dtype: int64"
            ]
          },
          "metadata": {},
          "execution_count": 12
        }
      ]
    },
    {
      "cell_type": "code",
      "source": [
        "age=data[\"Age\"].mean()\n",
        "print(age)"
      ],
      "metadata": {
        "colab": {
          "base_uri": "https://localhost:8080/"
        },
        "id": "047gDHAG_ZDf",
        "outputId": "df0c8e9c-a9ce-4ef1-f004-e746a6900b0e"
      },
      "execution_count": null,
      "outputs": [
        {
          "output_type": "stream",
          "name": "stdout",
          "text": [
            "39.04545454545455\n"
          ]
        }
      ]
    },
    {
      "cell_type": "code",
      "source": [
        "rating=data[\"Rating\"].mean()\n",
        "print(rating)"
      ],
      "metadata": {
        "colab": {
          "base_uri": "https://localhost:8080/"
        },
        "id": "e_UQ7BRY_omk",
        "outputId": "da455064-8271-47ed-d487-019ebbbff09a"
      },
      "execution_count": null,
      "outputs": [
        {
          "output_type": "stream",
          "name": "stdout",
          "text": [
            "3.528571428571429\n"
          ]
        }
      ]
    },
    {
      "cell_type": "code",
      "source": [
        "data['Age']=data.Age.fillna(age)\n",
        "data['Age']=data.Age.round(decimals=1)"
      ],
      "metadata": {
        "id": "toX8FIgnACa1"
      },
      "execution_count": null,
      "outputs": []
    },
    {
      "cell_type": "code",
      "source": [
        "data[\"Age\"]"
      ],
      "metadata": {
        "colab": {
          "base_uri": "https://localhost:8080/"
        },
        "id": "aQwex1P4ARcQ",
        "outputId": "b5b0326a-8d75-4b31-bf10-8ca11c8ab163"
      },
      "execution_count": null,
      "outputs": [
        {
          "output_type": "execute_result",
          "data": {
            "text/plain": [
              "0     44.0\n",
              "1     66.0\n",
              "2     39.0\n",
              "3     64.0\n",
              "4     25.0\n",
              "5     44.0\n",
              "6     21.0\n",
              "7     44.0\n",
              "8     35.0\n",
              "9     22.0\n",
              "10    55.0\n",
              "11    44.0\n",
              "12    39.0\n",
              "13    25.0\n",
              "14    66.0\n",
              "15    44.0\n",
              "16    19.0\n",
              "17    39.0\n",
              "18    35.0\n",
              "19    32.0\n",
              "20    39.0\n",
              "21    35.0\n",
              "22    19.0\n",
              "23    39.0\n",
              "24    13.0\n",
              "25    55.0\n",
              "26    39.0\n",
              "27    52.0\n",
              "28    39.0\n",
              "Name: Age, dtype: float64"
            ]
          },
          "metadata": {},
          "execution_count": 18
        }
      ]
    },
    {
      "cell_type": "code",
      "source": [
        "data['Rating'] = data.Rating.fillna(rating)\n",
        "data['Rating'] = data.Rating.round(decimals=1)"
      ],
      "metadata": {
        "id": "zXArXB0EAXXT"
      },
      "execution_count": null,
      "outputs": []
    },
    {
      "cell_type": "code",
      "source": [
        "data['Rating']"
      ],
      "metadata": {
        "colab": {
          "base_uri": "https://localhost:8080/"
        },
        "id": "sMIpsnjzAdCK",
        "outputId": "5f6c0683-b3b3-401b-b3c4-fad7d886296f"
      },
      "execution_count": null,
      "outputs": [
        {
          "output_type": "execute_result",
          "data": {
            "text/plain": [
              "0     5.4\n",
              "1     3.5\n",
              "2    -1.0\n",
              "3     4.4\n",
              "4     6.4\n",
              "5     1.4\n",
              "6     0.0\n",
              "7    -1.0\n",
              "8     5.4\n",
              "9     7.7\n",
              "10    5.4\n",
              "11    6.7\n",
              "12    0.0\n",
              "13   -1.0\n",
              "14    4.0\n",
              "15    3.0\n",
              "16    4.5\n",
              "17    5.3\n",
              "18    6.7\n",
              "19    3.3\n",
              "20    5.7\n",
              "21    5.0\n",
              "22    7.8\n",
              "23    2.4\n",
              "24   -1.0\n",
              "25    0.0\n",
              "26    3.5\n",
              "27    5.4\n",
              "28    3.4\n",
              "Name: Rating, dtype: float64"
            ]
          },
          "metadata": {},
          "execution_count": 21
        }
      ]
    },
    {
      "cell_type": "markdown",
      "source": [
        "Data Types"
      ],
      "metadata": {
        "id": "h4HuZToDAnUQ"
      }
    },
    {
      "cell_type": "code",
      "source": [
        "print(data.dtypes)"
      ],
      "metadata": {
        "colab": {
          "base_uri": "https://localhost:8080/"
        },
        "id": "7bsywsgpAq9Y",
        "outputId": "9fc2dd37-b44e-46f4-81b1-f24c5d46a3a3"
      },
      "execution_count": null,
      "outputs": [
        {
          "output_type": "stream",
          "name": "stdout",
          "text": [
            "Index            int64\n",
            "Age            float64\n",
            "Salary          object\n",
            "Rating         float64\n",
            "Location        object\n",
            "Established      int64\n",
            "Easy Apply      object\n",
            "dtype: object\n"
          ]
        }
      ]
    },
    {
      "cell_type": "code",
      "source": [
        "data_types = data.dtypes\n",
        "\n",
        "for column, dtype in data_types.items():\n",
        "    print(f\"{column}: {dtype}\")\n",
        "\n",
        "    if data[column].dtype == 'object':\n",
        "        print(f\"Expected Type: Categorical\")\n",
        "    elif data[column].dtype == 'float64':\n",
        "        print(f\"Expected Type: Numerical\")\n",
        "\n",
        "\n",
        "    print()"
      ],
      "metadata": {
        "colab": {
          "base_uri": "https://localhost:8080/"
        },
        "id": "8P0WD-L6AzFI",
        "outputId": "5947d743-4b75-4c7f-f0f3-aad9fb39791e"
      },
      "execution_count": null,
      "outputs": [
        {
          "output_type": "stream",
          "name": "stdout",
          "text": [
            "Index: int64\n",
            "\n",
            "Age: float64\n",
            "Expected Type: Numerical\n",
            "\n",
            "Salary: object\n",
            "Expected Type: Categorical\n",
            "\n",
            "Rating: float64\n",
            "Expected Type: Numerical\n",
            "\n",
            "Location: object\n",
            "Expected Type: Categorical\n",
            "\n",
            "Established: int64\n",
            "\n",
            "Easy Apply: object\n",
            "Expected Type: Categorical\n",
            "\n"
          ]
        }
      ]
    },
    {
      "cell_type": "markdown",
      "source": [
        "Outliers"
      ],
      "metadata": {
        "id": "TS7CzbLmA8cm"
      }
    },
    {
      "cell_type": "code",
      "source": [
        "z_score = 3\n",
        "\n",
        "z_scores = np.abs((data[['Age', 'Salary', 'Rating']] - data[['Age', 'Salary', 'Rating']].mean()) / data[['Age', 'Salary', 'Rating']].std())\n",
        "\n",
        "data_no_outliers = data[(z_scores <= z_score).all(axis=1)]\n",
        "\n",
        "print(\"Dataset after removing outliers:\")\n",
        "print(data_no_outliers)\n"
      ],
      "metadata": {
        "colab": {
          "base_uri": "https://localhost:8080/"
        },
        "id": "ZQBxYsxtA76u",
        "outputId": "b4f8c0c1-a1d6-4437-b7a0-a4fa78923ef2"
      },
      "execution_count": null,
      "outputs": [
        {
          "output_type": "stream",
          "name": "stdout",
          "text": [
            "Dataset after removing outliers:\n",
            "Empty DataFrame\n",
            "Columns: [Index, Age, Salary, Rating, Location, Established, Easy Apply]\n",
            "Index: []\n"
          ]
        },
        {
          "output_type": "stream",
          "name": "stderr",
          "text": [
            "<ipython-input-24-8241feab361b>:3: FutureWarning: The default value of numeric_only in DataFrame.mean is deprecated. In a future version, it will default to False. In addition, specifying 'numeric_only=None' is deprecated. Select only valid columns or specify the value of numeric_only to silence this warning.\n",
            "  z_scores = np.abs((data[['Age', 'Salary', 'Rating']] - data[['Age', 'Salary', 'Rating']].mean()) / data[['Age', 'Salary', 'Rating']].std())\n",
            "<ipython-input-24-8241feab361b>:3: FutureWarning: The default value of numeric_only in DataFrame.std is deprecated. In a future version, it will default to False. In addition, specifying 'numeric_only=None' is deprecated. Select only valid columns or specify the value of numeric_only to silence this warning.\n",
            "  z_scores = np.abs((data[['Age', 'Salary', 'Rating']] - data[['Age', 'Salary', 'Rating']].mean()) / data[['Age', 'Salary', 'Rating']].std())\n"
          ]
        }
      ]
    },
    {
      "cell_type": "markdown",
      "source": [
        "Salary formatting"
      ],
      "metadata": {
        "id": "3QvbBG1vBVjY"
      }
    },
    {
      "cell_type": "code",
      "source": [
        "data[\"Salary\"]"
      ],
      "metadata": {
        "colab": {
          "base_uri": "https://localhost:8080/"
        },
        "id": "FQ4UjlSEBZtn",
        "outputId": "2ecb66eb-099b-4d39-8821-7d8ef7497397"
      },
      "execution_count": null,
      "outputs": [
        {
          "output_type": "execute_result",
          "data": {
            "text/plain": [
              "0      $44k-$99k\n",
              "1      $55k-$66k\n",
              "2      $77k-$89k\n",
              "3      $44k-$99k\n",
              "4      $44k-$99k\n",
              "5      $77k-$89k\n",
              "6      $44k-$99k\n",
              "7      $44k-$99k\n",
              "8      $44k-$99k\n",
              "9      $44k-$99k\n",
              "10     $10k-$49k\n",
              "11     $10k-$49k\n",
              "12     $44k-$99k\n",
              "13     $44k-$99k\n",
              "14     $44k-$99k\n",
              "15    $88k-$101k\n",
              "16     $19k-$40k\n",
              "17     $44k-$99k\n",
              "18     $44k-$99k\n",
              "19     $44k-$99k\n",
              "20     $44k-$99k\n",
              "21     $44k-$99k\n",
              "22     $55k-$66k\n",
              "23     $44k-$99k\n",
              "24     $44k-$99k\n",
              "25     $44k-$99k\n",
              "26     $55k-$66k\n",
              "27     $44k-$99k\n",
              "28     $39k-$88k\n",
              "Name: Salary, dtype: object"
            ]
          },
          "metadata": {},
          "execution_count": 25
        }
      ]
    },
    {
      "cell_type": "code",
      "source": [
        "salary_values = data['Salary'].unique()\n",
        "\n",
        "print(\"Unique values in Salary:\")\n",
        "print(salary_values)\n",
        "\n",
        "pattern_counts = data['Salary'].value_counts()\n",
        "\n",
        "print(\"Counts of Salary:\")\n",
        "print(pattern_counts)\n",
        "\n",
        "\n",
        "missing_salary = data['Salary'].isnull().sum()\n",
        "\n",
        "print(\"Missing values in Salary:\", missing_salary)"
      ],
      "metadata": {
        "colab": {
          "base_uri": "https://localhost:8080/"
        },
        "id": "3RBNlzvtBy8j",
        "outputId": "e90cadce-16dc-4c7c-c468-dc1f535ff017"
      },
      "execution_count": null,
      "outputs": [
        {
          "output_type": "stream",
          "name": "stdout",
          "text": [
            "Unique values in Salary:\n",
            "['$44k-$99k' '$55k-$66k' '$77k-$89k' '$10k-$49k' '$88k-$101k' '$19k-$40k'\n",
            " '$39k-$88k']\n",
            "Counts of Salary:\n",
            "$44k-$99k     19\n",
            "$55k-$66k      3\n",
            "$77k-$89k      2\n",
            "$10k-$49k      2\n",
            "$88k-$101k     1\n",
            "$19k-$40k      1\n",
            "$39k-$88k      1\n",
            "Name: Salary, dtype: int64\n",
            "Missing values in Salary: 0\n"
          ]
        }
      ]
    },
    {
      "cell_type": "markdown",
      "source": [
        "Location Standarization"
      ],
      "metadata": {
        "id": "4h7tS5ZKCehm"
      }
    },
    {
      "cell_type": "code",
      "source": [
        "locations = data['Location'].unique()\n",
        "\n",
        "print(\"Unique values in Location:\")\n",
        "print(locations)\n",
        "\n",
        "data['Location'] = data['Location'].str.lower()\n",
        "\n",
        "print(\"After standardizing Location:\")\n",
        "print(data)\n"
      ],
      "metadata": {
        "colab": {
          "base_uri": "https://localhost:8080/"
        },
        "id": "dVT8UjCECk8f",
        "outputId": "abfb3f49-11ad-4f6a-e05b-facb6b9a0eeb"
      },
      "execution_count": null,
      "outputs": [
        {
          "output_type": "stream",
          "name": "stdout",
          "text": [
            "Unique values in Location:\n",
            "['India,In' 'New York,Ny' 'India In' 'Australia Aus']\n",
            "After standardizing Location:\n",
            "    Index   Age      Salary  Rating       Location  Established Easy Apply\n",
            "0       0  44.0   $44k-$99k     5.4       india,in         1999       TRUE\n",
            "1       1  66.0   $55k-$66k     3.5    new york,ny         2002       TRUE\n",
            "2       2  39.0   $77k-$89k    -1.0    new york,ny           -1         -1\n",
            "3       3  64.0   $44k-$99k     4.4       india in         1988         -1\n",
            "4       4  25.0   $44k-$99k     6.4  australia aus         2002         -1\n",
            "5       5  44.0   $77k-$89k     1.4       india,in         1999       TRUE\n",
            "6       6  21.0   $44k-$99k     0.0    new york,ny           -1         -1\n",
            "7       7  44.0   $44k-$99k    -1.0  australia aus           -1         -1\n",
            "8       8  35.0   $44k-$99k     5.4    new york,ny           -1         -1\n",
            "9       9  22.0   $44k-$99k     7.7       india,in           -1       TRUE\n",
            "10     10  55.0   $10k-$49k     5.4       india,in         2008       TRUE\n",
            "11     11  44.0   $10k-$49k     6.7       india,in         2009         -1\n",
            "12     12  39.0   $44k-$99k     0.0       india,in         1999         -1\n",
            "13     13  25.0   $44k-$99k    -1.0  australia aus         2019       TRUE\n",
            "14     14  66.0   $44k-$99k     4.0  australia aus         2020       TRUE\n",
            "15     15  44.0  $88k-$101k     3.0  australia aus         1999         -1\n",
            "16     16  19.0   $19k-$40k     4.5       india,in         1984         -1\n",
            "17     17  39.0   $44k-$99k     5.3    new york,ny         1943       TRUE\n",
            "18     18  35.0   $44k-$99k     6.7    new york,ny         1954       TRUE\n",
            "19     19  32.0   $44k-$99k     3.3    new york,ny         1955       TRUE\n",
            "20     20  39.0   $44k-$99k     5.7    new york,ny         1944       TRUE\n",
            "21     21  35.0   $44k-$99k     5.0    new york,ny         1946         -1\n",
            "22     22  19.0   $55k-$66k     7.8    new york,ny         1988       TRUE\n",
            "23     23  39.0   $44k-$99k     2.4    new york,ny         1999       TRUE\n",
            "24     24  13.0   $44k-$99k    -1.0    new york,ny         1987         -1\n",
            "25     25  55.0   $44k-$99k     0.0  australia aus         1980       TRUE\n",
            "26     26  39.0   $55k-$66k     3.5       india,in         1934       TRUE\n",
            "27     27  52.0   $44k-$99k     5.4       india,in         1935         -1\n",
            "28     28  39.0   $39k-$88k     3.4  australia aus         1932         -1\n"
          ]
        }
      ]
    },
    {
      "cell_type": "markdown",
      "source": [
        "Easy Apply Indicator"
      ],
      "metadata": {
        "id": "TGVWFb-BC-Fc"
      }
    },
    {
      "cell_type": "code",
      "source": [
        "easy_apply = data['Easy Apply'].unique()\n",
        "\n",
        "print(\"Unique values in Easy Apply:\")\n",
        "print(easy_apply)\n",
        "\n",
        "easy_apply_data_type = data['Easy Apply'].dtype\n",
        "\n",
        "print(\"\\nData type of Easy Apply:\", easy_apply_data_type)\n",
        "\n",
        "if easy_apply_data_type != bool:\n",
        "    data['Easy Apply'] = data['Easy Apply'].map({'TRUE': True, 'FALSE': False})\n",
        "\n",
        "print(\"after potential transformation\")\n",
        "print(data)"
      ],
      "metadata": {
        "colab": {
          "base_uri": "https://localhost:8080/"
        },
        "id": "dWEydn7lC9Ta",
        "outputId": "55d7ecd8-f145-428b-a5e4-cd4d73341fe9"
      },
      "execution_count": null,
      "outputs": [
        {
          "output_type": "stream",
          "name": "stdout",
          "text": [
            "Unique values in Easy Apply:\n",
            "['TRUE' '-1']\n",
            "\n",
            "Data type of Easy Apply: object\n",
            "after potential transformation\n",
            "    Index   Age      Salary  Rating       Location  Established Easy Apply\n",
            "0       0  44.0   $44k-$99k     5.4       india,in         1999       True\n",
            "1       1  66.0   $55k-$66k     3.5    new york,ny         2002       True\n",
            "2       2  39.0   $77k-$89k    -1.0    new york,ny           -1        NaN\n",
            "3       3  64.0   $44k-$99k     4.4       india in         1988        NaN\n",
            "4       4  25.0   $44k-$99k     6.4  australia aus         2002        NaN\n",
            "5       5  44.0   $77k-$89k     1.4       india,in         1999       True\n",
            "6       6  21.0   $44k-$99k     0.0    new york,ny           -1        NaN\n",
            "7       7  44.0   $44k-$99k    -1.0  australia aus           -1        NaN\n",
            "8       8  35.0   $44k-$99k     5.4    new york,ny           -1        NaN\n",
            "9       9  22.0   $44k-$99k     7.7       india,in           -1       True\n",
            "10     10  55.0   $10k-$49k     5.4       india,in         2008       True\n",
            "11     11  44.0   $10k-$49k     6.7       india,in         2009        NaN\n",
            "12     12  39.0   $44k-$99k     0.0       india,in         1999        NaN\n",
            "13     13  25.0   $44k-$99k    -1.0  australia aus         2019       True\n",
            "14     14  66.0   $44k-$99k     4.0  australia aus         2020       True\n",
            "15     15  44.0  $88k-$101k     3.0  australia aus         1999        NaN\n",
            "16     16  19.0   $19k-$40k     4.5       india,in         1984        NaN\n",
            "17     17  39.0   $44k-$99k     5.3    new york,ny         1943       True\n",
            "18     18  35.0   $44k-$99k     6.7    new york,ny         1954       True\n",
            "19     19  32.0   $44k-$99k     3.3    new york,ny         1955       True\n",
            "20     20  39.0   $44k-$99k     5.7    new york,ny         1944       True\n",
            "21     21  35.0   $44k-$99k     5.0    new york,ny         1946        NaN\n",
            "22     22  19.0   $55k-$66k     7.8    new york,ny         1988       True\n",
            "23     23  39.0   $44k-$99k     2.4    new york,ny         1999       True\n",
            "24     24  13.0   $44k-$99k    -1.0    new york,ny         1987        NaN\n",
            "25     25  55.0   $44k-$99k     0.0  australia aus         1980       True\n",
            "26     26  39.0   $55k-$66k     3.5       india,in         1934       True\n",
            "27     27  52.0   $44k-$99k     5.4       india,in         1935        NaN\n",
            "28     28  39.0   $39k-$88k     3.4  australia aus         1932        NaN\n"
          ]
        }
      ]
    },
    {
      "cell_type": "markdown",
      "source": [
        "Age Distribution"
      ],
      "metadata": {
        "id": "FPkXe5GcDkIG"
      }
    },
    {
      "cell_type": "code",
      "source": [
        "age = data['Age'].describe()\n",
        "\n",
        "print(\"Summary statistics for Age:\")\n",
        "print(age)\n",
        "\n",
        "age_values = data['Age'].unique()\n",
        "age_counts = data['Age'].value_counts()\n",
        "\n",
        "print(\"\\nUnique values in the 'Age' column:\")\n",
        "print(age_values)\n",
        "\n",
        "print(\"\\nCounts for each unique age value:\")\n",
        "print(age_counts)"
      ],
      "metadata": {
        "colab": {
          "base_uri": "https://localhost:8080/"
        },
        "id": "TEZAjeGSDnWm",
        "outputId": "9b31ecb9-65af-4ad4-889a-b28a4e440705"
      },
      "execution_count": null,
      "outputs": [
        {
          "output_type": "stream",
          "name": "stdout",
          "text": [
            "Summary statistics for Age:\n",
            "count    29.000000\n",
            "mean     39.034483\n",
            "std      13.973145\n",
            "min      13.000000\n",
            "25%      32.000000\n",
            "50%      39.000000\n",
            "75%      44.000000\n",
            "max      66.000000\n",
            "Name: Age, dtype: float64\n",
            "\n",
            "Unique values in the 'Age' column:\n",
            "[44. 66. 39. 64. 25. 21. 35. 22. 55. 19. 32. 13. 52.]\n",
            "\n",
            "Counts for each unique age value:\n",
            "39.0    7\n",
            "44.0    5\n",
            "35.0    3\n",
            "66.0    2\n",
            "25.0    2\n",
            "55.0    2\n",
            "19.0    2\n",
            "64.0    1\n",
            "21.0    1\n",
            "22.0    1\n",
            "32.0    1\n",
            "13.0    1\n",
            "52.0    1\n",
            "Name: Age, dtype: int64\n"
          ]
        }
      ]
    },
    {
      "cell_type": "markdown",
      "source": [
        "Handling Special Characters"
      ],
      "metadata": {
        "id": "eBXRSSxKD4Vm"
      }
    },
    {
      "cell_type": "code",
      "source": [
        "text = ['Location']\n",
        "\n",
        "for column in text:\n",
        "    unique_values = data[column].unique()\n",
        "    print(f\"Unique values in '{column}' column:\")\n",
        "    print(unique_values)\n",
        "\n",
        "\n",
        "data['Location'] = data['Location'].str.replace(r'[^a-zA-Z0-9\\s,]', '', regex=True)\n",
        "data['Location'] = data['Location'].str.strip()\n",
        "\n",
        "\n",
        "print(\"After cleaning text-based columns:\")\n",
        "print(data)"
      ],
      "metadata": {
        "colab": {
          "base_uri": "https://localhost:8080/"
        },
        "id": "r2HK1mIRD9ua",
        "outputId": "bf53dff3-624a-4f14-d3d8-bf3821b19e9d"
      },
      "execution_count": null,
      "outputs": [
        {
          "output_type": "stream",
          "name": "stdout",
          "text": [
            "Unique values in 'Location' column:\n",
            "['india,in' 'new york,ny' 'india in' 'australia aus']\n",
            "After cleaning text-based columns:\n",
            "    Index   Age      Salary  Rating       Location  Established Easy Apply\n",
            "0       0  44.0   $44k-$99k     5.4       india,in         1999       True\n",
            "1       1  66.0   $55k-$66k     3.5    new york,ny         2002       True\n",
            "2       2  39.0   $77k-$89k    -1.0    new york,ny           -1        NaN\n",
            "3       3  64.0   $44k-$99k     4.4       india in         1988        NaN\n",
            "4       4  25.0   $44k-$99k     6.4  australia aus         2002        NaN\n",
            "5       5  44.0   $77k-$89k     1.4       india,in         1999       True\n",
            "6       6  21.0   $44k-$99k     0.0    new york,ny           -1        NaN\n",
            "7       7  44.0   $44k-$99k    -1.0  australia aus           -1        NaN\n",
            "8       8  35.0   $44k-$99k     5.4    new york,ny           -1        NaN\n",
            "9       9  22.0   $44k-$99k     7.7       india,in           -1       True\n",
            "10     10  55.0   $10k-$49k     5.4       india,in         2008       True\n",
            "11     11  44.0   $10k-$49k     6.7       india,in         2009        NaN\n",
            "12     12  39.0   $44k-$99k     0.0       india,in         1999        NaN\n",
            "13     13  25.0   $44k-$99k    -1.0  australia aus         2019       True\n",
            "14     14  66.0   $44k-$99k     4.0  australia aus         2020       True\n",
            "15     15  44.0  $88k-$101k     3.0  australia aus         1999        NaN\n",
            "16     16  19.0   $19k-$40k     4.5       india,in         1984        NaN\n",
            "17     17  39.0   $44k-$99k     5.3    new york,ny         1943       True\n",
            "18     18  35.0   $44k-$99k     6.7    new york,ny         1954       True\n",
            "19     19  32.0   $44k-$99k     3.3    new york,ny         1955       True\n",
            "20     20  39.0   $44k-$99k     5.7    new york,ny         1944       True\n",
            "21     21  35.0   $44k-$99k     5.0    new york,ny         1946        NaN\n",
            "22     22  19.0   $55k-$66k     7.8    new york,ny         1988       True\n",
            "23     23  39.0   $44k-$99k     2.4    new york,ny         1999       True\n",
            "24     24  13.0   $44k-$99k    -1.0    new york,ny         1987        NaN\n",
            "25     25  55.0   $44k-$99k     0.0  australia aus         1980       True\n",
            "26     26  39.0   $55k-$66k     3.5       india,in         1934       True\n",
            "27     27  52.0   $44k-$99k     5.4       india,in         1935        NaN\n",
            "28     28  39.0   $39k-$88k     3.4  australia aus         1932        NaN\n"
          ]
        }
      ]
    },
    {
      "cell_type": "markdown",
      "source": [
        "Data Integrity"
      ],
      "metadata": {
        "id": "-axqUrbwEO_V"
      }
    },
    {
      "cell_type": "code",
      "source": [
        "entries = data[data['Age'] != -1]\n",
        "entries = entries[(entries['Established'] != -1) & (entries['Age'] - entries['Established'] < 0)]\n",
        "\n",
        "print(\"Entries where 'Age' and 'Established':\")\n",
        "print(entries[['Age', 'Established']])\n",
        "\n",
        "data.loc[data['Age'] == -1, 'Age'] = data['Established'] - data['Established'].min()\n",
        "\n",
        "\n",
        "print(\"After handling misaligned entries:\")\n",
        "print(data)\n"
      ],
      "metadata": {
        "colab": {
          "base_uri": "https://localhost:8080/"
        },
        "id": "V_6V3_UiEOYL",
        "outputId": "96a4e891-4de9-4bb3-b4d4-efe6c3d9c4e5"
      },
      "execution_count": null,
      "outputs": [
        {
          "output_type": "stream",
          "name": "stdout",
          "text": [
            "Entries where 'Age' and 'Established':\n",
            "     Age  Established\n",
            "0   44.0         1999\n",
            "1   66.0         2002\n",
            "3   64.0         1988\n",
            "4   25.0         2002\n",
            "5   44.0         1999\n",
            "10  55.0         2008\n",
            "11  44.0         2009\n",
            "12  39.0         1999\n",
            "13  25.0         2019\n",
            "14  66.0         2020\n",
            "15  44.0         1999\n",
            "16  19.0         1984\n",
            "17  39.0         1943\n",
            "18  35.0         1954\n",
            "19  32.0         1955\n",
            "20  39.0         1944\n",
            "21  35.0         1946\n",
            "22  19.0         1988\n",
            "23  39.0         1999\n",
            "24  13.0         1987\n",
            "25  55.0         1980\n",
            "26  39.0         1934\n",
            "27  52.0         1935\n",
            "28  39.0         1932\n",
            "After handling misaligned entries:\n",
            "    Index   Age      Salary  Rating       Location  Established Easy Apply\n",
            "0       0  44.0   $44k-$99k     5.4       india,in         1999       True\n",
            "1       1  66.0   $55k-$66k     3.5    new york,ny         2002       True\n",
            "2       2  39.0   $77k-$89k    -1.0    new york,ny           -1        NaN\n",
            "3       3  64.0   $44k-$99k     4.4       india in         1988        NaN\n",
            "4       4  25.0   $44k-$99k     6.4  australia aus         2002        NaN\n",
            "5       5  44.0   $77k-$89k     1.4       india,in         1999       True\n",
            "6       6  21.0   $44k-$99k     0.0    new york,ny           -1        NaN\n",
            "7       7  44.0   $44k-$99k    -1.0  australia aus           -1        NaN\n",
            "8       8  35.0   $44k-$99k     5.4    new york,ny           -1        NaN\n",
            "9       9  22.0   $44k-$99k     7.7       india,in           -1       True\n",
            "10     10  55.0   $10k-$49k     5.4       india,in         2008       True\n",
            "11     11  44.0   $10k-$49k     6.7       india,in         2009        NaN\n",
            "12     12  39.0   $44k-$99k     0.0       india,in         1999        NaN\n",
            "13     13  25.0   $44k-$99k    -1.0  australia aus         2019       True\n",
            "14     14  66.0   $44k-$99k     4.0  australia aus         2020       True\n",
            "15     15  44.0  $88k-$101k     3.0  australia aus         1999        NaN\n",
            "16     16  19.0   $19k-$40k     4.5       india,in         1984        NaN\n",
            "17     17  39.0   $44k-$99k     5.3    new york,ny         1943       True\n",
            "18     18  35.0   $44k-$99k     6.7    new york,ny         1954       True\n",
            "19     19  32.0   $44k-$99k     3.3    new york,ny         1955       True\n",
            "20     20  39.0   $44k-$99k     5.7    new york,ny         1944       True\n",
            "21     21  35.0   $44k-$99k     5.0    new york,ny         1946        NaN\n",
            "22     22  19.0   $55k-$66k     7.8    new york,ny         1988       True\n",
            "23     23  39.0   $44k-$99k     2.4    new york,ny         1999       True\n",
            "24     24  13.0   $44k-$99k    -1.0    new york,ny         1987        NaN\n",
            "25     25  55.0   $44k-$99k     0.0  australia aus         1980       True\n",
            "26     26  39.0   $55k-$66k     3.5       india,in         1934       True\n",
            "27     27  52.0   $44k-$99k     5.4       india,in         1935        NaN\n",
            "28     28  39.0   $39k-$88k     3.4  australia aus         1932        NaN\n"
          ]
        }
      ]
    },
    {
      "cell_type": "markdown",
      "source": [
        "Easy Apply Transformation"
      ],
      "metadata": {
        "id": "WZEQV-JREyIc"
      }
    },
    {
      "cell_type": "code",
      "source": [
        "easy_apply = data['Easy Apply'].unique()\n",
        "\n",
        "print(\"Unique values in  Easy Apply:\")\n",
        "print(easy_apply)\n",
        "\n",
        "easy_apply_data_type = data['Easy Apply'].dtype\n",
        "\n",
        "print(\"Data type of Easy Apply:\", easy_apply_data_type)\n",
        "\n",
        "if easy_apply_data_type != bool:\n",
        "    data['Easy Apply'] = data['Easy Apply'].map({'TRUE': True, 'FALSE': False})\n",
        "\n",
        "print(\"After transforming Easy Apply:\")\n",
        "print(data)"
      ],
      "metadata": {
        "colab": {
          "base_uri": "https://localhost:8080/"
        },
        "id": "qEo3WlssExrY",
        "outputId": "78b8887f-3f23-4138-bd8a-0689db984f64"
      },
      "execution_count": null,
      "outputs": [
        {
          "output_type": "stream",
          "name": "stdout",
          "text": [
            "Unique values in  Easy Apply:\n",
            "[nan]\n",
            "Data type of Easy Apply: object\n",
            "After transforming Easy Apply:\n",
            "    Index   Age      Salary  Rating       Location  Established Easy Apply\n",
            "0       0  44.0   $44k-$99k     5.4       india,in         1999        NaN\n",
            "1       1  66.0   $55k-$66k     3.5    new york,ny         2002        NaN\n",
            "2       2  39.0   $77k-$89k    -1.0    new york,ny           -1        NaN\n",
            "3       3  64.0   $44k-$99k     4.4       india in         1988        NaN\n",
            "4       4  25.0   $44k-$99k     6.4  australia aus         2002        NaN\n",
            "5       5  44.0   $77k-$89k     1.4       india,in         1999        NaN\n",
            "6       6  21.0   $44k-$99k     0.0    new york,ny           -1        NaN\n",
            "7       7  44.0   $44k-$99k    -1.0  australia aus           -1        NaN\n",
            "8       8  35.0   $44k-$99k     5.4    new york,ny           -1        NaN\n",
            "9       9  22.0   $44k-$99k     7.7       india,in           -1        NaN\n",
            "10     10  55.0   $10k-$49k     5.4       india,in         2008        NaN\n",
            "11     11  44.0   $10k-$49k     6.7       india,in         2009        NaN\n",
            "12     12  39.0   $44k-$99k     0.0       india,in         1999        NaN\n",
            "13     13  25.0   $44k-$99k    -1.0  australia aus         2019        NaN\n",
            "14     14  66.0   $44k-$99k     4.0  australia aus         2020        NaN\n",
            "15     15  44.0  $88k-$101k     3.0  australia aus         1999        NaN\n",
            "16     16  19.0   $19k-$40k     4.5       india,in         1984        NaN\n",
            "17     17  39.0   $44k-$99k     5.3    new york,ny         1943        NaN\n",
            "18     18  35.0   $44k-$99k     6.7    new york,ny         1954        NaN\n",
            "19     19  32.0   $44k-$99k     3.3    new york,ny         1955        NaN\n",
            "20     20  39.0   $44k-$99k     5.7    new york,ny         1944        NaN\n",
            "21     21  35.0   $44k-$99k     5.0    new york,ny         1946        NaN\n",
            "22     22  19.0   $55k-$66k     7.8    new york,ny         1988        NaN\n",
            "23     23  39.0   $44k-$99k     2.4    new york,ny         1999        NaN\n",
            "24     24  13.0   $44k-$99k    -1.0    new york,ny         1987        NaN\n",
            "25     25  55.0   $44k-$99k     0.0  australia aus         1980        NaN\n",
            "26     26  39.0   $55k-$66k     3.5       india,in         1934        NaN\n",
            "27     27  52.0   $44k-$99k     5.4       india,in         1935        NaN\n",
            "28     28  39.0   $39k-$88k     3.4  australia aus         1932        NaN\n"
          ]
        }
      ]
    },
    {
      "cell_type": "markdown",
      "source": [
        "Handling Categorical Data"
      ],
      "metadata": {
        "id": "D5hoqAoVFXRz"
      }
    },
    {
      "cell_type": "code",
      "source": [
        "data_types = data.dtypes\n",
        "\n",
        "print(\"Data types:\")\n",
        "print(data_types)\n",
        "\n",
        "categorical_columns = data.select_dtypes(include=['object']).columns\n",
        "\n",
        "print(\"Categorical:\")\n",
        "print(categorical_columns)\n",
        "\n",
        "\n",
        "data_encoded = pd.get_dummies(data, columns=categorical_columns, drop_first=True)\n",
        "\n",
        "\n",
        "print(\"After one-hot encoding categorical:\")\n",
        "print(data_encoded)\n"
      ],
      "metadata": {
        "colab": {
          "base_uri": "https://localhost:8080/"
        },
        "id": "6J8NBY3bFhAj",
        "outputId": "ec017659-03d7-425a-86cc-d75f37883445"
      },
      "execution_count": null,
      "outputs": [
        {
          "output_type": "stream",
          "name": "stdout",
          "text": [
            "Data types:\n",
            "Index            int64\n",
            "Age            float64\n",
            "Salary          object\n",
            "Rating         float64\n",
            "Location        object\n",
            "Established      int64\n",
            "Easy Apply      object\n",
            "dtype: object\n",
            "Categorical:\n",
            "Index(['Salary', 'Location', 'Easy Apply'], dtype='object')\n",
            "After one-hot encoding categorical:\n",
            "    Index   Age  Rating  Established  Salary_$19k-$40k  Salary_$39k-$88k  \\\n",
            "0       0  44.0     5.4         1999                 0                 0   \n",
            "1       1  66.0     3.5         2002                 0                 0   \n",
            "2       2  39.0    -1.0           -1                 0                 0   \n",
            "3       3  64.0     4.4         1988                 0                 0   \n",
            "4       4  25.0     6.4         2002                 0                 0   \n",
            "5       5  44.0     1.4         1999                 0                 0   \n",
            "6       6  21.0     0.0           -1                 0                 0   \n",
            "7       7  44.0    -1.0           -1                 0                 0   \n",
            "8       8  35.0     5.4           -1                 0                 0   \n",
            "9       9  22.0     7.7           -1                 0                 0   \n",
            "10     10  55.0     5.4         2008                 0                 0   \n",
            "11     11  44.0     6.7         2009                 0                 0   \n",
            "12     12  39.0     0.0         1999                 0                 0   \n",
            "13     13  25.0    -1.0         2019                 0                 0   \n",
            "14     14  66.0     4.0         2020                 0                 0   \n",
            "15     15  44.0     3.0         1999                 0                 0   \n",
            "16     16  19.0     4.5         1984                 1                 0   \n",
            "17     17  39.0     5.3         1943                 0                 0   \n",
            "18     18  35.0     6.7         1954                 0                 0   \n",
            "19     19  32.0     3.3         1955                 0                 0   \n",
            "20     20  39.0     5.7         1944                 0                 0   \n",
            "21     21  35.0     5.0         1946                 0                 0   \n",
            "22     22  19.0     7.8         1988                 0                 0   \n",
            "23     23  39.0     2.4         1999                 0                 0   \n",
            "24     24  13.0    -1.0         1987                 0                 0   \n",
            "25     25  55.0     0.0         1980                 0                 0   \n",
            "26     26  39.0     3.5         1934                 0                 0   \n",
            "27     27  52.0     5.4         1935                 0                 0   \n",
            "28     28  39.0     3.4         1932                 0                 1   \n",
            "\n",
            "    Salary_$44k-$99k  Salary_$55k-$66k  Salary_$77k-$89k  Salary_$88k-$101k  \\\n",
            "0                  1                 0                 0                  0   \n",
            "1                  0                 1                 0                  0   \n",
            "2                  0                 0                 1                  0   \n",
            "3                  1                 0                 0                  0   \n",
            "4                  1                 0                 0                  0   \n",
            "5                  0                 0                 1                  0   \n",
            "6                  1                 0                 0                  0   \n",
            "7                  1                 0                 0                  0   \n",
            "8                  1                 0                 0                  0   \n",
            "9                  1                 0                 0                  0   \n",
            "10                 0                 0                 0                  0   \n",
            "11                 0                 0                 0                  0   \n",
            "12                 1                 0                 0                  0   \n",
            "13                 1                 0                 0                  0   \n",
            "14                 1                 0                 0                  0   \n",
            "15                 0                 0                 0                  1   \n",
            "16                 0                 0                 0                  0   \n",
            "17                 1                 0                 0                  0   \n",
            "18                 1                 0                 0                  0   \n",
            "19                 1                 0                 0                  0   \n",
            "20                 1                 0                 0                  0   \n",
            "21                 1                 0                 0                  0   \n",
            "22                 0                 1                 0                  0   \n",
            "23                 1                 0                 0                  0   \n",
            "24                 1                 0                 0                  0   \n",
            "25                 1                 0                 0                  0   \n",
            "26                 0                 1                 0                  0   \n",
            "27                 1                 0                 0                  0   \n",
            "28                 0                 0                 0                  0   \n",
            "\n",
            "    Location_india in  Location_india,in  Location_new york,ny  \n",
            "0                   0                  1                     0  \n",
            "1                   0                  0                     1  \n",
            "2                   0                  0                     1  \n",
            "3                   1                  0                     0  \n",
            "4                   0                  0                     0  \n",
            "5                   0                  1                     0  \n",
            "6                   0                  0                     1  \n",
            "7                   0                  0                     0  \n",
            "8                   0                  0                     1  \n",
            "9                   0                  1                     0  \n",
            "10                  0                  1                     0  \n",
            "11                  0                  1                     0  \n",
            "12                  0                  1                     0  \n",
            "13                  0                  0                     0  \n",
            "14                  0                  0                     0  \n",
            "15                  0                  0                     0  \n",
            "16                  0                  1                     0  \n",
            "17                  0                  0                     1  \n",
            "18                  0                  0                     1  \n",
            "19                  0                  0                     1  \n",
            "20                  0                  0                     1  \n",
            "21                  0                  0                     1  \n",
            "22                  0                  0                     1  \n",
            "23                  0                  0                     1  \n",
            "24                  0                  0                     1  \n",
            "25                  0                  0                     0  \n",
            "26                  0                  1                     0  \n",
            "27                  0                  1                     0  \n",
            "28                  0                  0                     0  \n"
          ]
        }
      ]
    },
    {
      "cell_type": "markdown",
      "source": [
        "# What questions you can find in dataset 2(chipotle)?\n",
        "Before you actually answer these questions i will assume you have performed data cleaning.\n",
        "\n",
        "1. Quantity of each item? (Top 5 itmes available in store)\n",
        "2. which is most ordered item in choice_description?\n",
        "3. What is total order count?\n",
        "4. What is reveneu?\n",
        "5. what are number of orders?\n",
        "6. Whta is average revenue amount per order?\n",
        "7. How many different items are sold?\n",
        "8. what is revenue from each product?\n",
        "\n",
        "\n",
        "1. Find the unique items\n",
        "2. Find total cost and quantity of every unique items\n",
        "3. Find the average of every unique item\n",
        "4. Replace the items if abnormal with avg\n",
        "\n",
        "\n",
        "\n",
        "\n",
        "\n"
      ],
      "metadata": {
        "id": "-x1liyBk6zJJ"
      }
    },
    {
      "cell_type": "code",
      "source": [
        "data1 = pd.read_csv(\"/content/chipotle.tsv\",sep='\\t')\n",
        "data1"
      ],
      "metadata": {
        "colab": {
          "base_uri": "https://localhost:8080/",
          "height": 424
        },
        "id": "piKXH_dqitqZ",
        "outputId": "a1b87de0-e16d-4a6e-ea08-80718afe8f33"
      },
      "execution_count": 4,
      "outputs": [
        {
          "output_type": "execute_result",
          "data": {
            "text/plain": [
              "      order_id  quantity                              item_name  \\\n",
              "0            1         1           Chips and Fresh Tomato Salsa   \n",
              "1            1         1                                   Izze   \n",
              "2            1         1                       Nantucket Nectar   \n",
              "3            1         1  Chips and Tomatillo-Green Chili Salsa   \n",
              "4            2         2                           Chicken Bowl   \n",
              "...        ...       ...                                    ...   \n",
              "4617      1833         1                          Steak Burrito   \n",
              "4618      1833         1                          Steak Burrito   \n",
              "4619      1834         1                     Chicken Salad Bowl   \n",
              "4620      1834         1                     Chicken Salad Bowl   \n",
              "4621      1834         1                     Chicken Salad Bowl   \n",
              "\n",
              "                                     choice_description item_price  \n",
              "0                                                   NaN     $2.39   \n",
              "1                                          [Clementine]     $3.39   \n",
              "2                                               [Apple]     $3.39   \n",
              "3                                                   NaN     $2.39   \n",
              "4     [Tomatillo-Red Chili Salsa (Hot), [Black Beans...    $16.98   \n",
              "...                                                 ...        ...  \n",
              "4617  [Fresh Tomato Salsa, [Rice, Black Beans, Sour ...    $11.75   \n",
              "4618  [Fresh Tomato Salsa, [Rice, Sour Cream, Cheese...    $11.75   \n",
              "4619  [Fresh Tomato Salsa, [Fajita Vegetables, Pinto...    $11.25   \n",
              "4620  [Fresh Tomato Salsa, [Fajita Vegetables, Lettu...     $8.75   \n",
              "4621  [Fresh Tomato Salsa, [Fajita Vegetables, Pinto...     $8.75   \n",
              "\n",
              "[4622 rows x 5 columns]"
            ],
            "text/html": [
              "\n",
              "  <div id=\"df-a8b158dd-07ad-4909-8736-d2ba86c81f89\" class=\"colab-df-container\">\n",
              "    <div>\n",
              "<style scoped>\n",
              "    .dataframe tbody tr th:only-of-type {\n",
              "        vertical-align: middle;\n",
              "    }\n",
              "\n",
              "    .dataframe tbody tr th {\n",
              "        vertical-align: top;\n",
              "    }\n",
              "\n",
              "    .dataframe thead th {\n",
              "        text-align: right;\n",
              "    }\n",
              "</style>\n",
              "<table border=\"1\" class=\"dataframe\">\n",
              "  <thead>\n",
              "    <tr style=\"text-align: right;\">\n",
              "      <th></th>\n",
              "      <th>order_id</th>\n",
              "      <th>quantity</th>\n",
              "      <th>item_name</th>\n",
              "      <th>choice_description</th>\n",
              "      <th>item_price</th>\n",
              "    </tr>\n",
              "  </thead>\n",
              "  <tbody>\n",
              "    <tr>\n",
              "      <th>0</th>\n",
              "      <td>1</td>\n",
              "      <td>1</td>\n",
              "      <td>Chips and Fresh Tomato Salsa</td>\n",
              "      <td>NaN</td>\n",
              "      <td>$2.39</td>\n",
              "    </tr>\n",
              "    <tr>\n",
              "      <th>1</th>\n",
              "      <td>1</td>\n",
              "      <td>1</td>\n",
              "      <td>Izze</td>\n",
              "      <td>[Clementine]</td>\n",
              "      <td>$3.39</td>\n",
              "    </tr>\n",
              "    <tr>\n",
              "      <th>2</th>\n",
              "      <td>1</td>\n",
              "      <td>1</td>\n",
              "      <td>Nantucket Nectar</td>\n",
              "      <td>[Apple]</td>\n",
              "      <td>$3.39</td>\n",
              "    </tr>\n",
              "    <tr>\n",
              "      <th>3</th>\n",
              "      <td>1</td>\n",
              "      <td>1</td>\n",
              "      <td>Chips and Tomatillo-Green Chili Salsa</td>\n",
              "      <td>NaN</td>\n",
              "      <td>$2.39</td>\n",
              "    </tr>\n",
              "    <tr>\n",
              "      <th>4</th>\n",
              "      <td>2</td>\n",
              "      <td>2</td>\n",
              "      <td>Chicken Bowl</td>\n",
              "      <td>[Tomatillo-Red Chili Salsa (Hot), [Black Beans...</td>\n",
              "      <td>$16.98</td>\n",
              "    </tr>\n",
              "    <tr>\n",
              "      <th>...</th>\n",
              "      <td>...</td>\n",
              "      <td>...</td>\n",
              "      <td>...</td>\n",
              "      <td>...</td>\n",
              "      <td>...</td>\n",
              "    </tr>\n",
              "    <tr>\n",
              "      <th>4617</th>\n",
              "      <td>1833</td>\n",
              "      <td>1</td>\n",
              "      <td>Steak Burrito</td>\n",
              "      <td>[Fresh Tomato Salsa, [Rice, Black Beans, Sour ...</td>\n",
              "      <td>$11.75</td>\n",
              "    </tr>\n",
              "    <tr>\n",
              "      <th>4618</th>\n",
              "      <td>1833</td>\n",
              "      <td>1</td>\n",
              "      <td>Steak Burrito</td>\n",
              "      <td>[Fresh Tomato Salsa, [Rice, Sour Cream, Cheese...</td>\n",
              "      <td>$11.75</td>\n",
              "    </tr>\n",
              "    <tr>\n",
              "      <th>4619</th>\n",
              "      <td>1834</td>\n",
              "      <td>1</td>\n",
              "      <td>Chicken Salad Bowl</td>\n",
              "      <td>[Fresh Tomato Salsa, [Fajita Vegetables, Pinto...</td>\n",
              "      <td>$11.25</td>\n",
              "    </tr>\n",
              "    <tr>\n",
              "      <th>4620</th>\n",
              "      <td>1834</td>\n",
              "      <td>1</td>\n",
              "      <td>Chicken Salad Bowl</td>\n",
              "      <td>[Fresh Tomato Salsa, [Fajita Vegetables, Lettu...</td>\n",
              "      <td>$8.75</td>\n",
              "    </tr>\n",
              "    <tr>\n",
              "      <th>4621</th>\n",
              "      <td>1834</td>\n",
              "      <td>1</td>\n",
              "      <td>Chicken Salad Bowl</td>\n",
              "      <td>[Fresh Tomato Salsa, [Fajita Vegetables, Pinto...</td>\n",
              "      <td>$8.75</td>\n",
              "    </tr>\n",
              "  </tbody>\n",
              "</table>\n",
              "<p>4622 rows × 5 columns</p>\n",
              "</div>\n",
              "    <div class=\"colab-df-buttons\">\n",
              "\n",
              "  <div class=\"colab-df-container\">\n",
              "    <button class=\"colab-df-convert\" onclick=\"convertToInteractive('df-a8b158dd-07ad-4909-8736-d2ba86c81f89')\"\n",
              "            title=\"Convert this dataframe to an interactive table.\"\n",
              "            style=\"display:none;\">\n",
              "\n",
              "  <svg xmlns=\"http://www.w3.org/2000/svg\" height=\"24px\" viewBox=\"0 -960 960 960\">\n",
              "    <path d=\"M120-120v-720h720v720H120Zm60-500h600v-160H180v160Zm220 220h160v-160H400v160Zm0 220h160v-160H400v160ZM180-400h160v-160H180v160Zm440 0h160v-160H620v160ZM180-180h160v-160H180v160Zm440 0h160v-160H620v160Z\"/>\n",
              "  </svg>\n",
              "    </button>\n",
              "\n",
              "  <style>\n",
              "    .colab-df-container {\n",
              "      display:flex;\n",
              "      gap: 12px;\n",
              "    }\n",
              "\n",
              "    .colab-df-convert {\n",
              "      background-color: #E8F0FE;\n",
              "      border: none;\n",
              "      border-radius: 50%;\n",
              "      cursor: pointer;\n",
              "      display: none;\n",
              "      fill: #1967D2;\n",
              "      height: 32px;\n",
              "      padding: 0 0 0 0;\n",
              "      width: 32px;\n",
              "    }\n",
              "\n",
              "    .colab-df-convert:hover {\n",
              "      background-color: #E2EBFA;\n",
              "      box-shadow: 0px 1px 2px rgba(60, 64, 67, 0.3), 0px 1px 3px 1px rgba(60, 64, 67, 0.15);\n",
              "      fill: #174EA6;\n",
              "    }\n",
              "\n",
              "    .colab-df-buttons div {\n",
              "      margin-bottom: 4px;\n",
              "    }\n",
              "\n",
              "    [theme=dark] .colab-df-convert {\n",
              "      background-color: #3B4455;\n",
              "      fill: #D2E3FC;\n",
              "    }\n",
              "\n",
              "    [theme=dark] .colab-df-convert:hover {\n",
              "      background-color: #434B5C;\n",
              "      box-shadow: 0px 1px 3px 1px rgba(0, 0, 0, 0.15);\n",
              "      filter: drop-shadow(0px 1px 2px rgba(0, 0, 0, 0.3));\n",
              "      fill: #FFFFFF;\n",
              "    }\n",
              "  </style>\n",
              "\n",
              "    <script>\n",
              "      const buttonEl =\n",
              "        document.querySelector('#df-a8b158dd-07ad-4909-8736-d2ba86c81f89 button.colab-df-convert');\n",
              "      buttonEl.style.display =\n",
              "        google.colab.kernel.accessAllowed ? 'block' : 'none';\n",
              "\n",
              "      async function convertToInteractive(key) {\n",
              "        const element = document.querySelector('#df-a8b158dd-07ad-4909-8736-d2ba86c81f89');\n",
              "        const dataTable =\n",
              "          await google.colab.kernel.invokeFunction('convertToInteractive',\n",
              "                                                    [key], {});\n",
              "        if (!dataTable) return;\n",
              "\n",
              "        const docLinkHtml = 'Like what you see? Visit the ' +\n",
              "          '<a target=\"_blank\" href=https://colab.research.google.com/notebooks/data_table.ipynb>data table notebook</a>'\n",
              "          + ' to learn more about interactive tables.';\n",
              "        element.innerHTML = '';\n",
              "        dataTable['output_type'] = 'display_data';\n",
              "        await google.colab.output.renderOutput(dataTable, element);\n",
              "        const docLink = document.createElement('div');\n",
              "        docLink.innerHTML = docLinkHtml;\n",
              "        element.appendChild(docLink);\n",
              "      }\n",
              "    </script>\n",
              "  </div>\n",
              "\n",
              "\n",
              "<div id=\"df-ed36eea2-c6e1-446e-9ac0-b321cbb78c1d\">\n",
              "  <button class=\"colab-df-quickchart\" onclick=\"quickchart('df-ed36eea2-c6e1-446e-9ac0-b321cbb78c1d')\"\n",
              "            title=\"Suggest charts\"\n",
              "            style=\"display:none;\">\n",
              "\n",
              "<svg xmlns=\"http://www.w3.org/2000/svg\" height=\"24px\"viewBox=\"0 0 24 24\"\n",
              "     width=\"24px\">\n",
              "    <g>\n",
              "        <path d=\"M19 3H5c-1.1 0-2 .9-2 2v14c0 1.1.9 2 2 2h14c1.1 0 2-.9 2-2V5c0-1.1-.9-2-2-2zM9 17H7v-7h2v7zm4 0h-2V7h2v10zm4 0h-2v-4h2v4z\"/>\n",
              "    </g>\n",
              "</svg>\n",
              "  </button>\n",
              "\n",
              "<style>\n",
              "  .colab-df-quickchart {\n",
              "      --bg-color: #E8F0FE;\n",
              "      --fill-color: #1967D2;\n",
              "      --hover-bg-color: #E2EBFA;\n",
              "      --hover-fill-color: #174EA6;\n",
              "      --disabled-fill-color: #AAA;\n",
              "      --disabled-bg-color: #DDD;\n",
              "  }\n",
              "\n",
              "  [theme=dark] .colab-df-quickchart {\n",
              "      --bg-color: #3B4455;\n",
              "      --fill-color: #D2E3FC;\n",
              "      --hover-bg-color: #434B5C;\n",
              "      --hover-fill-color: #FFFFFF;\n",
              "      --disabled-bg-color: #3B4455;\n",
              "      --disabled-fill-color: #666;\n",
              "  }\n",
              "\n",
              "  .colab-df-quickchart {\n",
              "    background-color: var(--bg-color);\n",
              "    border: none;\n",
              "    border-radius: 50%;\n",
              "    cursor: pointer;\n",
              "    display: none;\n",
              "    fill: var(--fill-color);\n",
              "    height: 32px;\n",
              "    padding: 0;\n",
              "    width: 32px;\n",
              "  }\n",
              "\n",
              "  .colab-df-quickchart:hover {\n",
              "    background-color: var(--hover-bg-color);\n",
              "    box-shadow: 0 1px 2px rgba(60, 64, 67, 0.3), 0 1px 3px 1px rgba(60, 64, 67, 0.15);\n",
              "    fill: var(--button-hover-fill-color);\n",
              "  }\n",
              "\n",
              "  .colab-df-quickchart-complete:disabled,\n",
              "  .colab-df-quickchart-complete:disabled:hover {\n",
              "    background-color: var(--disabled-bg-color);\n",
              "    fill: var(--disabled-fill-color);\n",
              "    box-shadow: none;\n",
              "  }\n",
              "\n",
              "  .colab-df-spinner {\n",
              "    border: 2px solid var(--fill-color);\n",
              "    border-color: transparent;\n",
              "    border-bottom-color: var(--fill-color);\n",
              "    animation:\n",
              "      spin 1s steps(1) infinite;\n",
              "  }\n",
              "\n",
              "  @keyframes spin {\n",
              "    0% {\n",
              "      border-color: transparent;\n",
              "      border-bottom-color: var(--fill-color);\n",
              "      border-left-color: var(--fill-color);\n",
              "    }\n",
              "    20% {\n",
              "      border-color: transparent;\n",
              "      border-left-color: var(--fill-color);\n",
              "      border-top-color: var(--fill-color);\n",
              "    }\n",
              "    30% {\n",
              "      border-color: transparent;\n",
              "      border-left-color: var(--fill-color);\n",
              "      border-top-color: var(--fill-color);\n",
              "      border-right-color: var(--fill-color);\n",
              "    }\n",
              "    40% {\n",
              "      border-color: transparent;\n",
              "      border-right-color: var(--fill-color);\n",
              "      border-top-color: var(--fill-color);\n",
              "    }\n",
              "    60% {\n",
              "      border-color: transparent;\n",
              "      border-right-color: var(--fill-color);\n",
              "    }\n",
              "    80% {\n",
              "      border-color: transparent;\n",
              "      border-right-color: var(--fill-color);\n",
              "      border-bottom-color: var(--fill-color);\n",
              "    }\n",
              "    90% {\n",
              "      border-color: transparent;\n",
              "      border-bottom-color: var(--fill-color);\n",
              "    }\n",
              "  }\n",
              "</style>\n",
              "\n",
              "  <script>\n",
              "    async function quickchart(key) {\n",
              "      const quickchartButtonEl =\n",
              "        document.querySelector('#' + key + ' button');\n",
              "      quickchartButtonEl.disabled = true;  // To prevent multiple clicks.\n",
              "      quickchartButtonEl.classList.add('colab-df-spinner');\n",
              "      try {\n",
              "        const charts = await google.colab.kernel.invokeFunction(\n",
              "            'suggestCharts', [key], {});\n",
              "      } catch (error) {\n",
              "        console.error('Error during call to suggestCharts:', error);\n",
              "      }\n",
              "      quickchartButtonEl.classList.remove('colab-df-spinner');\n",
              "      quickchartButtonEl.classList.add('colab-df-quickchart-complete');\n",
              "    }\n",
              "    (() => {\n",
              "      let quickchartButtonEl =\n",
              "        document.querySelector('#df-ed36eea2-c6e1-446e-9ac0-b321cbb78c1d button');\n",
              "      quickchartButtonEl.style.display =\n",
              "        google.colab.kernel.accessAllowed ? 'block' : 'none';\n",
              "    })();\n",
              "  </script>\n",
              "</div>\n",
              "\n",
              "  <div id=\"id_70df618e-f1ac-41db-8e2b-f1e125c9f98f\">\n",
              "    <style>\n",
              "      .colab-df-generate {\n",
              "        background-color: #E8F0FE;\n",
              "        border: none;\n",
              "        border-radius: 50%;\n",
              "        cursor: pointer;\n",
              "        display: none;\n",
              "        fill: #1967D2;\n",
              "        height: 32px;\n",
              "        padding: 0 0 0 0;\n",
              "        width: 32px;\n",
              "      }\n",
              "\n",
              "      .colab-df-generate:hover {\n",
              "        background-color: #E2EBFA;\n",
              "        box-shadow: 0px 1px 2px rgba(60, 64, 67, 0.3), 0px 1px 3px 1px rgba(60, 64, 67, 0.15);\n",
              "        fill: #174EA6;\n",
              "      }\n",
              "\n",
              "      [theme=dark] .colab-df-generate {\n",
              "        background-color: #3B4455;\n",
              "        fill: #D2E3FC;\n",
              "      }\n",
              "\n",
              "      [theme=dark] .colab-df-generate:hover {\n",
              "        background-color: #434B5C;\n",
              "        box-shadow: 0px 1px 3px 1px rgba(0, 0, 0, 0.15);\n",
              "        filter: drop-shadow(0px 1px 2px rgba(0, 0, 0, 0.3));\n",
              "        fill: #FFFFFF;\n",
              "      }\n",
              "    </style>\n",
              "    <button class=\"colab-df-generate\" onclick=\"generateWithVariable('data1')\"\n",
              "            title=\"Generate code using this dataframe.\"\n",
              "            style=\"display:none;\">\n",
              "\n",
              "  <svg xmlns=\"http://www.w3.org/2000/svg\" height=\"24px\"viewBox=\"0 0 24 24\"\n",
              "       width=\"24px\">\n",
              "    <path d=\"M7,19H8.4L18.45,9,17,7.55,7,17.6ZM5,21V16.75L18.45,3.32a2,2,0,0,1,2.83,0l1.4,1.43a1.91,1.91,0,0,1,.58,1.4,1.91,1.91,0,0,1-.58,1.4L9.25,21ZM18.45,9,17,7.55Zm-12,3A5.31,5.31,0,0,0,4.9,8.1,5.31,5.31,0,0,0,1,6.5,5.31,5.31,0,0,0,4.9,4.9,5.31,5.31,0,0,0,6.5,1,5.31,5.31,0,0,0,8.1,4.9,5.31,5.31,0,0,0,12,6.5,5.46,5.46,0,0,0,6.5,12Z\"/>\n",
              "  </svg>\n",
              "    </button>\n",
              "    <script>\n",
              "      (() => {\n",
              "      const buttonEl =\n",
              "        document.querySelector('#id_70df618e-f1ac-41db-8e2b-f1e125c9f98f button.colab-df-generate');\n",
              "      buttonEl.style.display =\n",
              "        google.colab.kernel.accessAllowed ? 'block' : 'none';\n",
              "\n",
              "      buttonEl.onclick = () => {\n",
              "        google.colab.notebook.generateWithVariable('data1');\n",
              "      }\n",
              "      })();\n",
              "    </script>\n",
              "  </div>\n",
              "\n",
              "    </div>\n",
              "  </div>\n"
            ]
          },
          "metadata": {},
          "execution_count": 4
        }
      ]
    },
    {
      "cell_type": "markdown",
      "source": [
        "Missing Values"
      ],
      "metadata": {
        "id": "6xD1yH83-2PX"
      }
    },
    {
      "cell_type": "code",
      "source": [
        "missing = data1.isnull().sum()\n",
        "print(missing)\n",
        "data_cleaned = data1.dropna()"
      ],
      "metadata": {
        "colab": {
          "base_uri": "https://localhost:8080/"
        },
        "id": "VQO01SKG-5vy",
        "outputId": "3c1605ab-94a3-4185-d971-78e66b47c23f"
      },
      "execution_count": 9,
      "outputs": [
        {
          "output_type": "stream",
          "name": "stdout",
          "text": [
            "order_id                 0\n",
            "quantity                 0\n",
            "item_name                0\n",
            "choice_description    1246\n",
            "item_price               0\n",
            "dtype: int64\n"
          ]
        }
      ]
    },
    {
      "cell_type": "markdown",
      "source": [
        "Data Types"
      ],
      "metadata": {
        "id": "8Bmhzr8O_jY_"
      }
    },
    {
      "cell_type": "code",
      "source": [
        "print(data1.dtypes)"
      ],
      "metadata": {
        "colab": {
          "base_uri": "https://localhost:8080/"
        },
        "id": "cvMBPTmI_nFJ",
        "outputId": "ccd44f83-65bb-4dc1-a276-27e23735dab9"
      },
      "execution_count": 14,
      "outputs": [
        {
          "output_type": "stream",
          "name": "stdout",
          "text": [
            "order_id               int64\n",
            "quantity               int64\n",
            "item_name             object\n",
            "choice_description    object\n",
            "item_price            object\n",
            "dtype: object\n"
          ]
        }
      ]
    },
    {
      "cell_type": "markdown",
      "source": [
        "Duplicate Entries"
      ],
      "metadata": {
        "id": "X-mvIVivAMYW"
      }
    },
    {
      "cell_type": "code",
      "source": [
        "duplicate=data1[data1.duplicated()]\n",
        "print(duplicate)\n",
        "\n",
        "no_duplicate = data1.drop_duplicates()\n"
      ],
      "metadata": {
        "colab": {
          "base_uri": "https://localhost:8080/"
        },
        "id": "HZ5aIZRnAP5F",
        "outputId": "c67ddbaf-e651-480e-9c8a-f6d94860089d"
      },
      "execution_count": 19,
      "outputs": [
        {
          "output_type": "stream",
          "name": "stdout",
          "text": [
            "      order_id  quantity                            item_name  \\\n",
            "238        103         1                        Steak Burrito   \n",
            "248        108         1                          Canned Soda   \n",
            "297        129         1                        Steak Burrito   \n",
            "381        165         1                    Canned Soft Drink   \n",
            "484        205         1                         Chicken Bowl   \n",
            "567        233         1                    Canned Soft Drink   \n",
            "617        254         1                                Chips   \n",
            "684        282         1                    Canned Soft Drink   \n",
            "773        319         1                         Chicken Bowl   \n",
            "908        376         1                        Steak Burrito   \n",
            "924        381         1                   Chicken Soft Tacos   \n",
            "1003       412         1                        Bottled Water   \n",
            "1117       462         1                      Chicken Burrito   \n",
            "1203       491         1                      Chicken Burrito   \n",
            "1245       507         1                    Canned Soft Drink   \n",
            "1381       561         1                    Canned Soft Drink   \n",
            "1410       573         1                        Bottled Water   \n",
            "1420       576         1                        Barbacoa Bowl   \n",
            "1421       576         1                  Barbacoa Salad Bowl   \n",
            "1502       610         1                      Chicken Burrito   \n",
            "1534       624         1  Chips and Tomatillo-Red Chili Salsa   \n",
            "1548       628         1                  Chips and Guacamole   \n",
            "1612       651         1                                 Izze   \n",
            "1791       724         1                    Canned Soft Drink   \n",
            "1792       724         1                    Canned Soft Drink   \n",
            "2078       838         1                   Chicken Soft Tacos   \n",
            "2127       856         1                      Chicken Burrito   \n",
            "2307       926         1                         Chicken Bowl   \n",
            "2318       926         1                         Chicken Bowl   \n",
            "2362       940         1                    Canned Soft Drink   \n",
            "2448       972         1                         Chicken Bowl   \n",
            "2553      1011         1                    Canned Soft Drink   \n",
            "2554      1011         1                    Canned Soft Drink   \n",
            "2560      1013         1                  Chips and Guacamole   \n",
            "2576      1020         1  Chips and Tomatillo Red Chili Salsa   \n",
            "2662      1057         1                   Chicken Soft Tacos   \n",
            "2708      1074         1                                Chips   \n",
            "2717      1078         1                         Chicken Bowl   \n",
            "2833      1125         1                      Chicken Burrito   \n",
            "2881      1144         1                        Bottled Water   \n",
            "2973      1182         1                         Chicken Bowl   \n",
            "2977      1184         1                           Steak Bowl   \n",
            "3121      1244         1                  Chips and Guacamole   \n",
            "3430      1377         1  Chips and Tomatillo Red Chili Salsa   \n",
            "3637      1454         1                   Chicken Soft Tacos   \n",
            "3716      1484         1                          Canned Soda   \n",
            "3764      1507         1                      Chicken Burrito   \n",
            "3829      1534         1                      Chicken Burrito   \n",
            "3924      1574         1                        Bottled Water   \n",
            "4112      1647         1                         Chicken Bowl   \n",
            "4155      1660         1                  Chips and Guacamole   \n",
            "4236      1691         1                         Chicken Bowl   \n",
            "4266      1701         1                                Chips   \n",
            "4372      1745         1                  Chips and Guacamole   \n",
            "4463      1778         1                    Canned Soft Drink   \n",
            "4479      1785         1                        Bottled Water   \n",
            "4544      1806         1                        Bottled Water   \n",
            "4570      1817         1                        Bottled Water   \n",
            "4603      1827         1                     Barbacoa Burrito   \n",
            "\n",
            "                                     choice_description item_price  \n",
            "238   [Tomatillo Red Chili Salsa, [Rice, Black Beans...    $11.75   \n",
            "248                                      [Mountain Dew]     $1.09   \n",
            "297   [Tomatillo Green Chili Salsa, [Rice, Cheese, G...    $11.75   \n",
            "381                                              [Coke]     $1.25   \n",
            "484   [Fresh Tomato Salsa, [Fajita Vegetables, Rice,...     $8.75   \n",
            "567                                         [Diet Coke]     $1.25   \n",
            "617                                                 NaN     $2.15   \n",
            "684                                              [Coke]     $1.25   \n",
            "773   [Tomatillo-Green Chili Salsa (Medium), Black B...     $8.49   \n",
            "908   [Roasted Chili Corn Salsa (Medium), [Rice, Faj...     $8.99   \n",
            "924           [Tomatillo-Red Chili Salsa (Hot), Cheese]     $8.49   \n",
            "1003                                                NaN     $1.50   \n",
            "1117  [Fresh Tomato Salsa, [Rice, Black Beans, Chees...    $11.25   \n",
            "1203  [Fresh Tomato Salsa, [Cheese, Sour Cream, Lett...     $8.75   \n",
            "1245                                         [Lemonade]     $1.25   \n",
            "1381                                             [Coke]     $1.25   \n",
            "1410                                                NaN     $1.50   \n",
            "1420                         [Roasted Chili Corn Salsa]     $9.25   \n",
            "1421                         [Roasted Chili Corn Salsa]     $9.39   \n",
            "1502  [Fresh Tomato Salsa, [Fajita Vegetables, Rice,...     $8.75   \n",
            "1534                                                NaN     $2.39   \n",
            "1548                                                NaN     $4.45   \n",
            "1612                                       [Blackberry]     $3.39   \n",
            "1791                                             [Coke]     $1.25   \n",
            "1792                                             [Coke]     $1.25   \n",
            "2078  [Fresh Tomato Salsa, [Cheese, Sour Cream, Lett...     $8.75   \n",
            "2127  [Fresh Tomato Salsa, [Rice, Black Beans, Chees...    $11.25   \n",
            "2307  [Roasted Chili Corn Salsa, [Fajita Vegetables,...     $8.75   \n",
            "2318  [Roasted Chili Corn Salsa, [Fajita Vegetables,...     $8.75   \n",
            "2362                                             [Coke]     $1.25   \n",
            "2448  [Tomatillo Red Chili Salsa, [Rice, Black Beans...     $8.75   \n",
            "2553                                             [Coke]     $1.25   \n",
            "2554                                             [Coke]     $1.25   \n",
            "2560                                                NaN     $4.45   \n",
            "2576                                                NaN     $2.95   \n",
            "2662  [Tomatillo Red Chili Salsa, [Fajita Vegetables...    $11.25   \n",
            "2708                                                NaN     $2.15   \n",
            "2717  [Fresh Tomato Salsa, [Rice, Black Beans, Chees...    $11.25   \n",
            "2833      [Fresh Tomato Salsa, [Rice, Cheese, Lettuce]]     $8.75   \n",
            "2881                                                NaN     $1.50   \n",
            "2973  [Tomatillo-Red Chili Salsa (Hot), [Rice, Black...     $8.49   \n",
            "2977  [Fresh Tomato Salsa, [Rice, Pinto Beans, Chees...     $9.25   \n",
            "3121                                                NaN     $4.45   \n",
            "3430                                                NaN     $2.95   \n",
            "3637                         [Fresh Tomato Salsa, Rice]     $8.75   \n",
            "3716                                       [Dr. Pepper]     $1.09   \n",
            "3764  [Fresh Tomato Salsa, [Rice, Black Beans, Chees...     $8.75   \n",
            "3829  [Fresh Tomato Salsa, [Rice, Cheese, Sour Cream...     $8.75   \n",
            "3924                                                NaN     $1.50   \n",
            "4112  [Fresh Tomato Salsa, [Fajita Vegetables, Rice,...    $11.25   \n",
            "4155                                                NaN     $4.45   \n",
            "4236                                       [White Rice]     $8.50   \n",
            "4266                                                NaN     $2.15   \n",
            "4372                                                NaN     $4.45   \n",
            "4463                                         [Lemonade]     $1.25   \n",
            "4479                                                NaN     $1.50   \n",
            "4544                                                NaN     $1.50   \n",
            "4570                                                NaN     $1.50   \n",
            "4603                      [Tomatillo Green Chili Salsa]     $9.25   \n"
          ]
        }
      ]
    },
    {
      "cell_type": "markdown",
      "source": [
        "Choice Description"
      ],
      "metadata": {
        "id": "nzrkkm2GCg1r"
      }
    },
    {
      "cell_type": "code",
      "source": [
        "data1['combined_description'] = data1.groupby('item_name')['choice_description'].transform(lambda x: ', '.join(x.dropna()))\n",
        "unique_items = data1[['item_name', 'combined_description']].drop_duplicates()\n",
        "print(unique_items)"
      ],
      "metadata": {
        "colab": {
          "base_uri": "https://localhost:8080/"
        },
        "id": "aXkQ-CxBCnA6",
        "outputId": "fe41075d-3630-4ff7-b8f0-cce66bfb050d"
      },
      "execution_count": 22,
      "outputs": [
        {
          "output_type": "stream",
          "name": "stdout",
          "text": [
            "                                  item_name  \\\n",
            "0              Chips and Fresh Tomato Salsa   \n",
            "1                                      Izze   \n",
            "2                          Nantucket Nectar   \n",
            "3     Chips and Tomatillo-Green Chili Salsa   \n",
            "4                              Chicken Bowl   \n",
            "6                             Side of Chips   \n",
            "7                             Steak Burrito   \n",
            "8                          Steak Soft Tacos   \n",
            "10                      Chips and Guacamole   \n",
            "11                     Chicken Crispy Tacos   \n",
            "12                       Chicken Soft Tacos   \n",
            "16                          Chicken Burrito   \n",
            "18                              Canned Soda   \n",
            "21                         Barbacoa Burrito   \n",
            "27                         Carnitas Burrito   \n",
            "33                            Carnitas Bowl   \n",
            "34                            Bottled Water   \n",
            "38    Chips and Tomatillo Green Chili Salsa   \n",
            "39                            Barbacoa Bowl   \n",
            "40                                    Chips   \n",
            "44                       Chicken Salad Bowl   \n",
            "54                               Steak Bowl   \n",
            "56                      Barbacoa Soft Tacos   \n",
            "57                           Veggie Burrito   \n",
            "62                              Veggie Bowl   \n",
            "92                       Steak Crispy Tacos   \n",
            "111     Chips and Tomatillo Red Chili Salsa   \n",
            "168                   Barbacoa Crispy Tacos   \n",
            "186                       Veggie Salad Bowl   \n",
            "191      Chips and Roasted Chili-Corn Salsa   \n",
            "233      Chips and Roasted Chili Corn Salsa   \n",
            "237                     Carnitas Soft Tacos   \n",
            "250                           Chicken Salad   \n",
            "263                       Canned Soft Drink   \n",
            "281                        Steak Salad Bowl   \n",
            "298                       6 Pack Soft Drink   \n",
            "300     Chips and Tomatillo-Red Chili Salsa   \n",
            "445                                    Bowl   \n",
            "510                                 Burrito   \n",
            "520                            Crispy Tacos   \n",
            "554                   Carnitas Crispy Tacos   \n",
            "664                             Steak Salad   \n",
            "674       Chips and Mild Fresh Tomato Salsa   \n",
            "738                       Veggie Soft Tacos   \n",
            "1132                    Carnitas Salad Bowl   \n",
            "1229                    Barbacoa Salad Bowl   \n",
            "1414                                  Salad   \n",
            "1653                    Veggie Crispy Tacos   \n",
            "1694                           Veggie Salad   \n",
            "3750                         Carnitas Salad   \n",
            "\n",
            "                                   combined_description  \n",
            "0                                                        \n",
            "1     [Clementine], [Grapefruit], [Blackberry], [Bla...  \n",
            "2     [Apple], [Pomegranate Cherry], [Pineapple Oran...  \n",
            "3                                                        \n",
            "4     [Tomatillo-Red Chili Salsa (Hot), [Black Beans...  \n",
            "6                                                        \n",
            "7     [Tomatillo Red Chili Salsa, [Fajita Vegetables...  \n",
            "8     [Tomatillo Green Chili Salsa, [Pinto Beans, Ch...  \n",
            "10                                                       \n",
            "11    [Roasted Chili Corn Salsa, [Fajita Vegetables,...  \n",
            "12    [Roasted Chili Corn Salsa, [Rice, Black Beans,...  \n",
            "16    [Tomatillo-Green Chili Salsa (Medium), [Pinto ...  \n",
            "18    [Sprite], [Dr. Pepper], [Mountain Dew], [Sprit...  \n",
            "21    [[Fresh Tomato Salsa (Mild), Tomatillo-Green C...  \n",
            "27    [[Tomatillo-Green Chili Salsa (Medium), Roaste...  \n",
            "33    [Tomatillo-Red Chili Salsa (Hot), [Black Beans...  \n",
            "34                                                       \n",
            "38                                                       \n",
            "39    [Roasted Chili Corn Salsa, [Fajita Vegetables,...  \n",
            "40                                                       \n",
            "44    [Fresh Tomato Salsa, [Fajita Vegetables, Pinto...  \n",
            "54    [Fresh Tomato Salsa (Mild), [Black Beans, Rice...  \n",
            "56    [Fresh Tomato Salsa, [Fajita Vegetables, Black...  \n",
            "57    [Tomatillo Red Chili Salsa, [Fajita Vegetables...  \n",
            "62    [Fresh Tomato Salsa, [Fajita Vegetables, Rice,...  \n",
            "92    [Fresh Tomato Salsa, Sour Cream], [[Roasted Ch...  \n",
            "111                                                      \n",
            "168   [Tomatillo Red Chili Salsa, [Rice, Black Beans...  \n",
            "186   [Fresh Tomato Salsa, [Fajita Vegetables, Rice,...  \n",
            "191                                                      \n",
            "233                                                      \n",
            "237   [Tomatillo Green Chili Salsa, [Fajita Vegetabl...  \n",
            "250   [Roasted Chili Corn Salsa (Medium), [Black Bea...  \n",
            "263   [Coke], [Sprite], [Coke], [Coke], [Lemonade], ...  \n",
            "281   [Tomatillo Red Chili Salsa, [Black Beans, Chee...  \n",
            "298   [Sprite], [Diet Coke], [Coke], [Diet Coke], [D...  \n",
            "300                                                      \n",
            "445   [Braised Carnitas, Pinto Beans, [Sour Cream, C...  \n",
            "510   [Adobo-Marinated and Grilled Chicken, Pinto Be...  \n",
            "520   [Adobo-Marinated and Grilled Steak], [Adobo-Ma...  \n",
            "554   [Roasted Chili Corn Salsa], [Tomatillo Green C...  \n",
            "664   [Tomatillo-Red Chili Salsa (Hot), [Black Beans...  \n",
            "674                                                      \n",
            "738   [Tomatillo Red Chili Salsa, [Fajita Vegetables...  \n",
            "1132  [Fresh Tomato Salsa, [Rice, Black Beans, Chees...  \n",
            "1229  [Fresh Tomato Salsa, [Rice, Fajita Vegetables,...  \n",
            "1414  [Brown Rice, Adobo-Marinated and Grilled Chick...  \n",
            "1653  [Fresh Tomato Salsa (Mild), [Pinto Beans, Rice...  \n",
            "1694  [[Fresh Tomato Salsa (Mild), Roasted Chili Cor...  \n",
            "3750  [[Fresh Tomato Salsa (Mild), Roasted Chili Cor...  \n"
          ]
        }
      ]
    },
    {
      "cell_type": "markdown",
      "source": [
        "Item Name Standardization"
      ],
      "metadata": {
        "id": "gaHH3GQbEMoP"
      }
    },
    {
      "cell_type": "code",
      "source": [
        "unique_names = data1['item_name'].unique()\n",
        "data1['standardized'] = data1['item_name'].str.lower()\n",
        "print(data1[['item_name', 'standardized']].head())\n"
      ],
      "metadata": {
        "colab": {
          "base_uri": "https://localhost:8080/"
        },
        "id": "Ene_6kkKEUJA",
        "outputId": "de9cfedf-ff30-45ec-f14d-257a1c0f81a9"
      },
      "execution_count": 25,
      "outputs": [
        {
          "output_type": "stream",
          "name": "stdout",
          "text": [
            "                               item_name  \\\n",
            "0           Chips and Fresh Tomato Salsa   \n",
            "1                                   Izze   \n",
            "2                       Nantucket Nectar   \n",
            "3  Chips and Tomatillo-Green Chili Salsa   \n",
            "4                           Chicken Bowl   \n",
            "\n",
            "                            standardized  \n",
            "0           chips and fresh tomato salsa  \n",
            "1                                   izze  \n",
            "2                       nantucket nectar  \n",
            "3  chips and tomatillo-green chili salsa  \n",
            "4                           chicken bowl  \n"
          ]
        }
      ]
    },
    {
      "cell_type": "markdown",
      "source": [
        "Categorical Data"
      ],
      "metadata": {
        "id": "1GqwpApBKT7u"
      }
    },
    {
      "cell_type": "code",
      "source": [
        "encoded = pd.get_dummies(data1, columns=['item_name'], prefix='item')\n",
        "print(encoded.head())"
      ],
      "metadata": {
        "colab": {
          "base_uri": "https://localhost:8080/"
        },
        "id": "v-GksPorKaNm",
        "outputId": "e377aa53-eed2-4674-d1f2-de677afa071a"
      },
      "execution_count": 27,
      "outputs": [
        {
          "output_type": "stream",
          "name": "stdout",
          "text": [
            "   order_id  quantity                                 choice_description  \\\n",
            "0         1         1                                                NaN   \n",
            "1         1         1                                       [Clementine]   \n",
            "2         1         1                                            [Apple]   \n",
            "3         1         1                                                NaN   \n",
            "4         2         2  [Tomatillo-Red Chili Salsa (Hot), [Black Beans...   \n",
            "\n",
            "  item_price                               Combined_Description  \\\n",
            "0     $2.39                                                       \n",
            "1     $3.39   [Clementine], [Grapefruit], [Blackberry], [Bla...   \n",
            "2     $3.39   [Apple], [Pomegranate Cherry], [Pineapple Oran...   \n",
            "3     $2.39                                                       \n",
            "4    $16.98   [Tomatillo-Red Chili Salsa (Hot), [Black Beans...   \n",
            "\n",
            "                                combined_description  \\\n",
            "0                                                      \n",
            "1  [Clementine], [Grapefruit], [Blackberry], [Bla...   \n",
            "2  [Apple], [Pomegranate Cherry], [Pineapple Oran...   \n",
            "3                                                      \n",
            "4  [Tomatillo-Red Chili Salsa (Hot), [Black Beans...   \n",
            "\n",
            "                            standardized  item_6 Pack Soft Drink  \\\n",
            "0           chips and fresh tomato salsa                       0   \n",
            "1                                   izze                       0   \n",
            "2                       nantucket nectar                       0   \n",
            "3  chips and tomatillo-green chili salsa                       0   \n",
            "4                           chicken bowl                       0   \n",
            "\n",
            "   item_Barbacoa Bowl  item_Barbacoa Burrito  ...  item_Steak Crispy Tacos  \\\n",
            "0                   0                      0  ...                        0   \n",
            "1                   0                      0  ...                        0   \n",
            "2                   0                      0  ...                        0   \n",
            "3                   0                      0  ...                        0   \n",
            "4                   0                      0  ...                        0   \n",
            "\n",
            "   item_Steak Salad  item_Steak Salad Bowl  item_Steak Soft Tacos  \\\n",
            "0                 0                      0                      0   \n",
            "1                 0                      0                      0   \n",
            "2                 0                      0                      0   \n",
            "3                 0                      0                      0   \n",
            "4                 0                      0                      0   \n",
            "\n",
            "   item_Veggie Bowl  item_Veggie Burrito  item_Veggie Crispy Tacos  \\\n",
            "0                 0                    0                         0   \n",
            "1                 0                    0                         0   \n",
            "2                 0                    0                         0   \n",
            "3                 0                    0                         0   \n",
            "4                 0                    0                         0   \n",
            "\n",
            "   item_Veggie Salad  item_Veggie Salad Bowl  item_Veggie Soft Tacos  \n",
            "0                  0                       0                       0  \n",
            "1                  0                       0                       0  \n",
            "2                  0                       0                       0  \n",
            "3                  0                       0                       0  \n",
            "4                  0                       0                       0  \n",
            "\n",
            "[5 rows x 57 columns]\n"
          ]
        }
      ]
    },
    {
      "cell_type": "markdown",
      "source": [
        "Convert tsv to csv"
      ],
      "metadata": {
        "id": "nCEts_QJKl4f"
      }
    },
    {
      "cell_type": "code",
      "source": [
        "csv_file_path = '/content/chipotle.csv'\n",
        "data1.to_csv(csv_file_path, sep=',', index=False)\n",
        "print(f\"The cleaned dataset has been successfully saved to: {csv_file_path}\")\n"
      ],
      "metadata": {
        "colab": {
          "base_uri": "https://localhost:8080/"
        },
        "id": "zSv2OmPsK3sS",
        "outputId": "cf446bc9-6d99-4fbc-b40b-8d9c409172d7"
      },
      "execution_count": 28,
      "outputs": [
        {
          "output_type": "stream",
          "name": "stdout",
          "text": [
            "The cleaned dataset has been successfully saved to: /content/chipotle.csv\n"
          ]
        }
      ]
    },
    {
      "cell_type": "code",
      "source": [],
      "metadata": {
        "id": "yMI09jxiLYcq"
      },
      "execution_count": null,
      "outputs": []
    }
  ]
}